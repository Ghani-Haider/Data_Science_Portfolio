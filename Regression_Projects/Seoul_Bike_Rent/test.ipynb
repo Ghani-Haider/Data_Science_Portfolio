{
 "cells": [
  {
   "cell_type": "code",
   "execution_count": 9,
   "metadata": {},
   "outputs": [],
   "source": [
    "import pandas as pd\n",
    "import numpy as np\n",
    "\n",
    "dic = {\"data\":{\n",
    "       \"Hour\": \"2\",\n",
    "       \"Temperature(°C)\": -5.2,\n",
    "       \"Humidity(%)\": 37,\n",
    "       \"Wind speed (m/s)\": 2.2,\n",
    "       \"Visibility (10m)\": 2000,\n",
    "       \"Solar Radiation (MJ/m2)\": 0.0,\n",
    "       \"Rainfall(mm)\": 0.0,\n",
    "       \"Snowfall (cm)\": 0.0,\n",
    "       \"Seasons\": \"Winter\", \n",
    "       \"Holiday\": \"No Holiday\", \n",
    "       \"Functioning Day\": \"Yes\",\n",
    "       \"Week Day\":\"Yes\"\n",
    "    }}\n",
    "\n",
    "dd = {\n",
    "    \"data\":{\n",
    "       \"Hour\": \"0\",\n",
    "       \"Temperature(°C)\": -5.2,\n",
    "       \"Humidity(%)\": 37,\n",
    "       \"Wind speed (m/s)\": 2.2,\n",
    "       \"Visibility (10m)\": 2000.0,\n",
    "       \"Solar Radiation (MJ/m2)\": 0.0,\n",
    "       \"Rainfall(mm)\": 0.0,\n",
    "       \"Snowfall (cm)\": 0.0,\n",
    "       \"Seasons\": \"Winter\", \n",
    "       \"Holiday\": \"No Holiday\", \n",
    "       \"Functioning Day\": \"Yes\",\n",
    "       \"Week Day\":\"Yes\"\n",
    "    }\n",
    "}\n",
    "\n",
    "data = dd['data']"
   ]
  },
  {
   "cell_type": "code",
   "execution_count": 11,
   "metadata": {},
   "outputs": [
    {
     "data": {
      "text/plain": [
       "[-5.2, 37, 2.2, 2000.0, 0.0, 0.0, 0.0]"
      ]
     },
     "execution_count": 11,
     "metadata": {},
     "output_type": "execute_result"
    }
   ],
   "source": [
    "[data[\"Temperature(°C)\"], data[\"Humidity(%)\"], \n",
    "                             data[\"Wind speed (m/s)\"], data[\"Visibility (10m)\"],\n",
    "                             data[\"Solar Radiation (MJ/m2)\"], data[\"Rainfall(mm)\"],\n",
    "                             data[\"Snowfall (cm)\"]]"
   ]
  },
  {
   "cell_type": "code",
   "execution_count": 47,
   "metadata": {},
   "outputs": [
    {
     "data": {
      "text/plain": [
       "['2', -5.2, 37, 2.2, 2000, 0.0, 0.0, 0.0, 'Winter', 'No Holiday', 'Yes', 'Yes']"
      ]
     },
     "execution_count": 47,
     "metadata": {},
     "output_type": "execute_result"
    }
   ],
   "source": [
    "feat = dic['data']\n",
    "list(feat.values())"
   ]
  },
  {
   "cell_type": "code",
   "execution_count": 56,
   "metadata": {},
   "outputs": [
    {
     "data": {
      "text/plain": [
       "array([[-5.2e+00,  3.7e+01,  2.2e+00,  2.0e+03,  0.0e+00,  0.0e+00,\n",
       "         0.0e+00,  0.0e+00,  1.0e+00,  0.0e+00,  0.0e+00,  0.0e+00,\n",
       "         0.0e+00,  0.0e+00,  0.0e+00,  0.0e+00,  0.0e+00,  0.0e+00,\n",
       "         0.0e+00,  0.0e+00,  0.0e+00,  0.0e+00,  0.0e+00,  0.0e+00,\n",
       "         0.0e+00,  0.0e+00,  0.0e+00,  0.0e+00,  0.0e+00,  0.0e+00,\n",
       "         0.0e+00,  0.0e+00,  1.0e+00,  1.0e+00,  1.0e+00,  1.0e+00]])"
      ]
     },
     "execution_count": 56,
     "metadata": {},
     "output_type": "execute_result"
    }
   ],
   "source": [
    "l = list(feat.values())\n",
    "# num features\n",
    "temp_snowfall = l[1:8]\n",
    "# encode hour\n",
    "hour = [0] * 24\n",
    "hour[int(l[0])] = 1\n",
    "# encode season\n",
    "season = [0] * 3\n",
    "if l[8] == 'Spring':\n",
    "    season[0] = 1\n",
    "elif l[8] == 'Summer':\n",
    "    season[1] = 1\n",
    "elif l[8] == 'Winter':\n",
    "    season[2] = 1\n",
    "\n",
    "# holiday\n",
    "holiday = [1] if l[-3] == 'No Holiday' else [0]\n",
    "# functioning day\n",
    "func_day = [1] if l[-2] == 'Yes' else [0]\n",
    "# weekday\n",
    "weekday = [1] if l[-1] == 'Yes' else [0]\n",
    "\n",
    "np.array(list(temp_snowfall + hour[1:] + season + holiday + func_day + weekday)).reshape(1,-1)"
   ]
  },
  {
   "cell_type": "code",
   "execution_count": 54,
   "metadata": {},
   "outputs": [
    {
     "data": {
      "text/plain": [
       "24"
      ]
     },
     "execution_count": 54,
     "metadata": {},
     "output_type": "execute_result"
    }
   ],
   "source": [
    "len(hour)"
   ]
  },
  {
   "cell_type": "code",
   "execution_count": 48,
   "metadata": {},
   "outputs": [
    {
     "data": {
      "text/plain": [
       "['Hour',\n",
       " 'Temperature(°C)',\n",
       " 'Humidity(%)',\n",
       " 'Wind speed (m/s)',\n",
       " 'Visibility (10m)',\n",
       " 'Solar Radiation (MJ/m2)',\n",
       " 'Rainfall(mm)',\n",
       " 'Snowfall (cm)',\n",
       " 'Seasons',\n",
       " 'Holiday',\n",
       " 'Functioning Day',\n",
       " 'Week Day']"
      ]
     },
     "execution_count": 48,
     "metadata": {},
     "output_type": "execute_result"
    }
   ],
   "source": [
    "list(feat.keys())"
   ]
  },
  {
   "cell_type": "code",
   "execution_count": 44,
   "metadata": {},
   "outputs": [
    {
     "data": {
      "text/plain": [
       "'2'"
      ]
     },
     "execution_count": 44,
     "metadata": {},
     "output_type": "execute_result"
    }
   ],
   "source": [
    "feat['Hour']"
   ]
  },
  {
   "cell_type": "code",
   "execution_count": 26,
   "metadata": {},
   "outputs": [],
   "source": [
    "ser = pd.Series(feat)\n",
    "\n",
    "df = pd.DataFrame(ser).transpose()"
   ]
  },
  {
   "cell_type": "code",
   "execution_count": 27,
   "metadata": {},
   "outputs": [],
   "source": [
    "df = df.convert_dtypes()"
   ]
  },
  {
   "cell_type": "code",
   "execution_count": 43,
   "metadata": {},
   "outputs": [
    {
     "data": {
      "text/plain": [
       "array([['2', -5.2, 37, 2.2, 2000, 0, 0, 0, 'Winter', 'No Holiday', 'Yes',\n",
       "        'Yes']], dtype=object)"
      ]
     },
     "execution_count": 43,
     "metadata": {},
     "output_type": "execute_result"
    }
   ],
   "source": [
    "df.values"
   ]
  },
  {
   "cell_type": "code",
   "execution_count": 33,
   "metadata": {},
   "outputs": [
    {
     "name": "stdout",
     "output_type": "stream",
     "text": [
      "<class 'pandas.core.frame.DataFrame'>\n",
      "RangeIndex: 1 entries, 0 to 0\n",
      "Data columns (total 12 columns):\n",
      " #   Column                   Non-Null Count  Dtype  \n",
      "---  ------                   --------------  -----  \n",
      " 0   Hour                     1 non-null      string \n",
      " 1   Temperature(°C)          1 non-null      Float64\n",
      " 2   Humidity(%)              1 non-null      Int64  \n",
      " 3   Wind speed (m/s)         1 non-null      Float64\n",
      " 4   Visibility (10m)         1 non-null      Int64  \n",
      " 5   Solar Radiation (MJ/m2)  1 non-null      Int64  \n",
      " 6   Rainfall(mm)             1 non-null      Int64  \n",
      " 7   Snowfall (cm)            1 non-null      Int64  \n",
      " 8   Seasons                  1 non-null      string \n",
      " 9   Holiday                  1 non-null      string \n",
      " 10  Functioning Day          1 non-null      string \n",
      " 11  Week Day                 1 non-null      string \n",
      "dtypes: Float64(2), Int64(5), string(5)\n",
      "memory usage: 231.0 bytes\n"
     ]
    }
   ],
   "source": [
    "df.info()"
   ]
  },
  {
   "cell_type": "code",
   "execution_count": 42,
   "metadata": {},
   "outputs": [
    {
     "name": "stdout",
     "output_type": "stream",
     "text": [
      "   Hour_2  Seasons_Winter  Holiday_No Holiday  Functioning Day_Yes  \\\n",
      "0       1               1                   1                    1   \n",
      "\n",
      "   Week Day_Yes  \n",
      "0             1  \n"
     ]
    },
    {
     "data": {
      "text/html": [
       "<div>\n",
       "<style scoped>\n",
       "    .dataframe tbody tr th:only-of-type {\n",
       "        vertical-align: middle;\n",
       "    }\n",
       "\n",
       "    .dataframe tbody tr th {\n",
       "        vertical-align: top;\n",
       "    }\n",
       "\n",
       "    .dataframe thead th {\n",
       "        text-align: right;\n",
       "    }\n",
       "</style>\n",
       "<table border=\"1\" class=\"dataframe\">\n",
       "  <thead>\n",
       "    <tr style=\"text-align: right;\">\n",
       "      <th></th>\n",
       "      <th>Temperature(°C)</th>\n",
       "      <th>Humidity(%)</th>\n",
       "      <th>Wind speed (m/s)</th>\n",
       "      <th>Visibility (10m)</th>\n",
       "      <th>Solar Radiation (MJ/m2)</th>\n",
       "      <th>Rainfall(mm)</th>\n",
       "      <th>Snowfall (cm)</th>\n",
       "      <th>Hour_2</th>\n",
       "      <th>Seasons_Winter</th>\n",
       "      <th>Holiday_No Holiday</th>\n",
       "      <th>Functioning Day_Yes</th>\n",
       "      <th>Week Day_Yes</th>\n",
       "    </tr>\n",
       "  </thead>\n",
       "  <tbody>\n",
       "    <tr>\n",
       "      <th>0</th>\n",
       "      <td>-5.2</td>\n",
       "      <td>37</td>\n",
       "      <td>2.2</td>\n",
       "      <td>2000</td>\n",
       "      <td>0</td>\n",
       "      <td>0</td>\n",
       "      <td>0</td>\n",
       "      <td>1</td>\n",
       "      <td>1</td>\n",
       "      <td>1</td>\n",
       "      <td>1</td>\n",
       "      <td>1</td>\n",
       "    </tr>\n",
       "  </tbody>\n",
       "</table>\n",
       "</div>"
      ],
      "text/plain": [
       "   Temperature(°C)  Humidity(%)  Wind speed (m/s)  Visibility (10m)  \\\n",
       "0             -5.2           37               2.2              2000   \n",
       "\n",
       "   Solar Radiation (MJ/m2)  Rainfall(mm)  Snowfall (cm)  Hour_2  \\\n",
       "0                        0             0              0       1   \n",
       "\n",
       "   Seasons_Winter  Holiday_No Holiday  Functioning Day_Yes  Week Day_Yes  \n",
       "0               1                   1                    1             1  "
      ]
     },
     "execution_count": 42,
     "metadata": {},
     "output_type": "execute_result"
    }
   ],
   "source": [
    "def feature_encode(df):\n",
    "    # numeric features\n",
    "    num_features = df.select_dtypes(exclude='string')\n",
    "    # categorical features\n",
    "    cat_features = df.select_dtypes(include='string')\n",
    "    # get dummy variables for categorical features\n",
    "    dummy_features = pd.get_dummies(cat_features)\n",
    "    print(dummy_features)\n",
    "\n",
    "    # merge into final dataframe\n",
    "    df_final = pd.concat([num_features, dummy_features], axis=1)\n",
    "    return df_final\n",
    "\n",
    "df_final = feature_encode(df)\n",
    "df_final.head()"
   ]
  },
  {
   "attachments": {},
   "cell_type": "markdown",
   "metadata": {},
   "source": [
    "dummy var set up\n",
    "\n",
    "- hour : 23 dummy var\n",
    "- season: 3\n",
    "- \n"
   ]
  }
 ],
 "metadata": {
  "kernelspec": {
   "display_name": "Python 3",
   "language": "python",
   "name": "python3"
  },
  "language_info": {
   "codemirror_mode": {
    "name": "ipython",
    "version": 3
   },
   "file_extension": ".py",
   "mimetype": "text/x-python",
   "name": "python",
   "nbconvert_exporter": "python",
   "pygments_lexer": "ipython3",
   "version": "3.10.6"
  },
  "orig_nbformat": 4,
  "vscode": {
   "interpreter": {
    "hash": "97cc609b13305c559618ec78a438abc56230b9381f827f22d070313b9a1f3777"
   }
  }
 },
 "nbformat": 4,
 "nbformat_minor": 2
}
